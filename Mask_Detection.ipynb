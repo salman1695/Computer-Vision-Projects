{
  "nbformat": 4,
  "nbformat_minor": 0,
  "metadata": {
    "colab": {
      "provenance": [],
      "gpuType": "T4"
    },
    "kernelspec": {
      "name": "python3",
      "display_name": "Python 3"
    },
    "language_info": {
      "name": "python"
    },
    "accelerator": "GPU"
  },
  "cells": [
    {
      "cell_type": "code",
      "execution_count": null,
      "metadata": {
        "id": "-O6a-2oqXWtO"
      },
      "outputs": [],
      "source": []
    },
    {
      "cell_type": "code",
      "metadata": {
        "id": "ffffceb0"
      },
      "source": [
        "import zipfile\n",
        "with zipfile.ZipFile('/content/maskDetection2.zip', 'r') as zip_ref:\n",
        "    zip_ref.extractall('/content')"
      ],
      "execution_count": null,
      "outputs": []
    },
    {
      "cell_type": "code",
      "source": [
        "import tensorflow as tf\n",
        "from tensorflow.keras.preprocessing.image import ImageDataGenerator\n",
        "from tensorflow.keras.models import Sequential\n",
        "from tensorflow.keras.layers import Conv2D, MaxPooling2D, Flatten, Dense, Dropout\n",
        "import keras"
      ],
      "metadata": {
        "id": "eq9tesGpZJct"
      },
      "execution_count": null,
      "outputs": []
    },
    {
      "cell_type": "code",
      "source": [],
      "metadata": {
        "id": "N6RnOhrWZdTM"
      },
      "execution_count": null,
      "outputs": []
    },
    {
      "cell_type": "code",
      "source": [
        "trainData_gen = ImageDataGenerator(rescale=1./255\n",
        "                                   ,     rotation_range=40,\n",
        "    width_shift_range=0.2,\n",
        "    height_shift_range=0.2,\n",
        "    zoom_range = 0.2,\n",
        "    horizontal_flip=True)\n",
        "valiData_gen = ImageDataGenerator(rescale=1./255)\n",
        "testData_gen = ImageDataGenerator(rescale=1./255)"
      ],
      "metadata": {
        "id": "JyyqtTgHZtlF"
      },
      "execution_count": null,
      "outputs": []
    },
    {
      "cell_type": "code",
      "source": [
        "train_ds = trainData_gen.flow_from_directory(\n",
        "    '/content/Face Mask Dataset/Train',\n",
        "    target_size=(150 , 150),\n",
        "    batch_size=32,\n",
        "    class_mode='binary'\n",
        ")\n",
        "\n",
        "vali_ds = valiData_gen.flow_from_directory(\n",
        "    '/content/Face Mask Dataset/Validation',\n",
        "    target_size=(150 , 150),\n",
        "    batch_size=32,\n",
        "    class_mode='binary'\n",
        ")"
      ],
      "metadata": {
        "colab": {
          "base_uri": "https://localhost:8080/"
        },
        "id": "OuriUTDV4S7C",
        "outputId": "fd8959da-43e8-40d2-d793-b56b488e991e"
      },
      "execution_count": null,
      "outputs": [
        {
          "output_type": "stream",
          "name": "stdout",
          "text": [
            "Found 10000 images belonging to 2 classes.\n",
            "Found 800 images belonging to 2 classes.\n"
          ]
        }
      ]
    },
    {
      "cell_type": "code",
      "source": [
        "model = Sequential()\n",
        "model.add(Conv2D(32 , (3,3) , activation='relu' , input_shape=(150 , 150 , 3)))\n",
        "model.add(MaxPooling2D(2,2))\n",
        "model.add(Conv2D(64 , (3,3) , activation='relu'))\n",
        "model.add(MaxPooling2D(2,2))\n",
        "model.add(Conv2D(128 , (3,3) , activation='relu'))\n",
        "model.add(MaxPooling2D(2,2))\n",
        "model.add(Conv2D(128 , (3,3) , activation='relu'))\n",
        "model.add(MaxPooling2D(2,2))\n",
        "model.add(Flatten())\n",
        "model.add(Dense(512 , activation='relu'))\n",
        "model.add(Dense(1 , activation='sigmoid'))\n",
        "\n",
        "model.compile(optimizer='rmsprop' , loss='binary_crossentropy' , metrics=['accuracy'])"
      ],
      "metadata": {
        "colab": {
          "base_uri": "https://localhost:8080/"
        },
        "id": "Zou5ki3PaGPA",
        "outputId": "847f2c7e-249f-438e-d5d4-66cf0dc94e45"
      },
      "execution_count": null,
      "outputs": [
        {
          "output_type": "stream",
          "name": "stderr",
          "text": [
            "/usr/local/lib/python3.11/dist-packages/keras/src/layers/convolutional/base_conv.py:107: UserWarning: Do not pass an `input_shape`/`input_dim` argument to a layer. When using Sequential models, prefer using an `Input(shape)` object as the first layer in the model instead.\n",
            "  super().__init__(activity_regularizer=activity_regularizer, **kwargs)\n"
          ]
        }
      ]
    },
    {
      "cell_type": "code",
      "source": [
        "model.fit(train_ds , epochs=10 , validation_data=vali_ds)"
      ],
      "metadata": {
        "colab": {
          "base_uri": "https://localhost:8080/"
        },
        "id": "_yUIeh-g5I4L",
        "outputId": "afb5741e-a45a-487b-f790-cba723400c3b"
      },
      "execution_count": null,
      "outputs": [
        {
          "output_type": "stream",
          "name": "stderr",
          "text": [
            "/usr/local/lib/python3.11/dist-packages/keras/src/trainers/data_adapters/py_dataset_adapter.py:121: UserWarning: Your `PyDataset` class should call `super().__init__(**kwargs)` in its constructor. `**kwargs` can include `workers`, `use_multiprocessing`, `max_queue_size`. Do not pass these arguments to `fit()`, as they will be ignored.\n",
            "  self._warn_if_super_not_called()\n"
          ]
        },
        {
          "output_type": "stream",
          "name": "stdout",
          "text": [
            "Epoch 1/10\n",
            "\u001b[1m313/313\u001b[0m \u001b[32m━━━━━━━━━━━━━━━━━━━━\u001b[0m\u001b[37m\u001b[0m \u001b[1m0s\u001b[0m 219ms/step - accuracy: 0.7860 - loss: 0.4580"
          ]
        },
        {
          "output_type": "stream",
          "name": "stderr",
          "text": [
            "/usr/local/lib/python3.11/dist-packages/keras/src/trainers/data_adapters/py_dataset_adapter.py:121: UserWarning: Your `PyDataset` class should call `super().__init__(**kwargs)` in its constructor. `**kwargs` can include `workers`, `use_multiprocessing`, `max_queue_size`. Do not pass these arguments to `fit()`, as they will be ignored.\n",
            "  self._warn_if_super_not_called()\n"
          ]
        },
        {
          "output_type": "stream",
          "name": "stdout",
          "text": [
            "\b\b\b\b\b\b\b\b\b\b\b\b\b\b\b\b\b\b\b\b\b\b\b\b\b\b\b\b\b\b\b\b\b\b\b\b\b\b\b\b\b\b\b\b\b\b\b\b\b\b\b\b\b\b\b\b\b\b\b\b\b\b\b\b\b\b\b\b\b\b\b\b\b\b\b\b\r\u001b[1m313/313\u001b[0m \u001b[32m━━━━━━━━━━━━━━━━━━━━\u001b[0m\u001b[37m\u001b[0m \u001b[1m73s\u001b[0m 225ms/step - accuracy: 0.7862 - loss: 0.4576 - val_accuracy: 0.9663 - val_loss: 0.1165\n",
            "Epoch 2/10\n",
            "\u001b[1m313/313\u001b[0m \u001b[32m━━━━━━━━━━━━━━━━━━━━\u001b[0m\u001b[37m\u001b[0m \u001b[1m67s\u001b[0m 214ms/step - accuracy: 0.9242 - loss: 0.2118 - val_accuracy: 0.9388 - val_loss: 0.1674\n",
            "Epoch 3/10\n",
            "\u001b[1m313/313\u001b[0m \u001b[32m━━━━━━━━━━━━━━━━━━━━\u001b[0m\u001b[37m\u001b[0m \u001b[1m69s\u001b[0m 220ms/step - accuracy: 0.9237 - loss: 0.2042 - val_accuracy: 0.9688 - val_loss: 0.1000\n",
            "Epoch 4/10\n",
            "\u001b[1m313/313\u001b[0m \u001b[32m━━━━━━━━━━━━━━━━━━━━\u001b[0m\u001b[37m\u001b[0m \u001b[1m70s\u001b[0m 223ms/step - accuracy: 0.9349 - loss: 0.1856 - val_accuracy: 0.9463 - val_loss: 0.1731\n",
            "Epoch 5/10\n",
            "\u001b[1m313/313\u001b[0m \u001b[32m━━━━━━━━━━━━━━━━━━━━\u001b[0m\u001b[37m\u001b[0m \u001b[1m68s\u001b[0m 216ms/step - accuracy: 0.9386 - loss: 0.1761 - val_accuracy: 0.9400 - val_loss: 0.1664\n",
            "Epoch 6/10\n",
            "\u001b[1m313/313\u001b[0m \u001b[32m━━━━━━━━━━━━━━━━━━━━\u001b[0m\u001b[37m\u001b[0m \u001b[1m68s\u001b[0m 218ms/step - accuracy: 0.9493 - loss: 0.1568 - val_accuracy: 0.9488 - val_loss: 0.1427\n",
            "Epoch 7/10\n",
            "\u001b[1m313/313\u001b[0m \u001b[32m━━━━━━━━━━━━━━━━━━━━\u001b[0m\u001b[37m\u001b[0m \u001b[1m69s\u001b[0m 220ms/step - accuracy: 0.9457 - loss: 0.1535 - val_accuracy: 0.9837 - val_loss: 0.0757\n",
            "Epoch 8/10\n",
            "\u001b[1m313/313\u001b[0m \u001b[32m━━━━━━━━━━━━━━━━━━━━\u001b[0m\u001b[37m\u001b[0m \u001b[1m69s\u001b[0m 220ms/step - accuracy: 0.9552 - loss: 0.1400 - val_accuracy: 0.9762 - val_loss: 0.0752\n",
            "Epoch 9/10\n",
            "\u001b[1m313/313\u001b[0m \u001b[32m━━━━━━━━━━━━━━━━━━━━\u001b[0m\u001b[37m\u001b[0m \u001b[1m67s\u001b[0m 215ms/step - accuracy: 0.9614 - loss: 0.1160 - val_accuracy: 0.9862 - val_loss: 0.0610\n",
            "Epoch 10/10\n",
            "\u001b[1m313/313\u001b[0m \u001b[32m━━━━━━━━━━━━━━━━━━━━\u001b[0m\u001b[37m\u001b[0m \u001b[1m70s\u001b[0m 222ms/step - accuracy: 0.9593 - loss: 0.1128 - val_accuracy: 0.9737 - val_loss: 0.1224\n"
          ]
        },
        {
          "output_type": "execute_result",
          "data": {
            "text/plain": [
              "<keras.src.callbacks.history.History at 0x7ad730628cd0>"
            ]
          },
          "metadata": {},
          "execution_count": 47
        }
      ]
    },
    {
      "cell_type": "code",
      "source": [
        "model.save(\"maskModel.keras\")"
      ],
      "metadata": {
        "id": "loNUcV6V5T5s"
      },
      "execution_count": null,
      "outputs": []
    },
    {
      "cell_type": "code",
      "source": [
        "test_ds = testData_gen.flow_from_directory(\n",
        "    '/content/Face Mask Dataset/Test',\n",
        "    target_size=(150 , 150),\n",
        "    batch_size=32,\n",
        "    class_mode='binary'\n",
        ")"
      ],
      "metadata": {
        "colab": {
          "base_uri": "https://localhost:8080/"
        },
        "id": "DvPgVZyL6xbs",
        "outputId": "6ff80224-afaa-4edb-a443-5859abe98e77"
      },
      "execution_count": null,
      "outputs": [
        {
          "output_type": "stream",
          "name": "stdout",
          "text": [
            "Found 992 images belonging to 2 classes.\n"
          ]
        }
      ]
    },
    {
      "cell_type": "code",
      "source": [],
      "metadata": {
        "id": "sROksibv6xgA"
      },
      "execution_count": null,
      "outputs": []
    },
    {
      "cell_type": "code",
      "source": [
        "loss , accuracy = model.evaluate(test_ds)"
      ],
      "metadata": {
        "colab": {
          "base_uri": "https://localhost:8080/"
        },
        "id": "7RmCBSSS6oJJ",
        "outputId": "e2f6a585-0935-474b-c55f-1bdeac9f6049"
      },
      "execution_count": null,
      "outputs": [
        {
          "output_type": "stream",
          "name": "stdout",
          "text": [
            "\r\u001b[1m 1/31\u001b[0m \u001b[37m━━━━━━━━━━━━━━━━━━━━\u001b[0m \u001b[1m2s\u001b[0m 78ms/step - accuracy: 1.0000 - loss: 2.4156e-04"
          ]
        },
        {
          "output_type": "stream",
          "name": "stderr",
          "text": [
            "/usr/local/lib/python3.11/dist-packages/keras/src/trainers/data_adapters/py_dataset_adapter.py:121: UserWarning: Your `PyDataset` class should call `super().__init__(**kwargs)` in its constructor. `**kwargs` can include `workers`, `use_multiprocessing`, `max_queue_size`. Do not pass these arguments to `fit()`, as they will be ignored.\n",
            "  self._warn_if_super_not_called()\n"
          ]
        },
        {
          "output_type": "stream",
          "name": "stdout",
          "text": [
            "\u001b[1m31/31\u001b[0m \u001b[32m━━━━━━━━━━━━━━━━━━━━\u001b[0m\u001b[37m\u001b[0m \u001b[1m2s\u001b[0m 47ms/step - accuracy: 0.9796 - loss: 0.0541\n"
          ]
        }
      ]
    },
    {
      "cell_type": "code",
      "source": [
        "import cv2\n",
        "img = cv2.imread('/content/images.jpeg')\n",
        "img = cv2.resize(img , (150 , 150))\n"
      ],
      "metadata": {
        "id": "D_A4rDUY7B3U"
      },
      "execution_count": null,
      "outputs": []
    },
    {
      "cell_type": "code",
      "source": [
        "img"
      ],
      "metadata": {
        "colab": {
          "base_uri": "https://localhost:8080/",
          "height": 190
        },
        "id": "zthRKrOr7gzI",
        "outputId": "49dcc325-d638-471c-a61a-d60dd3fd49c8"
      },
      "execution_count": null,
      "outputs": [
        {
          "output_type": "execute_result",
          "data": {
            "text/plain": [
              "array([[[255, 255, 255],\n",
              "        [255, 255, 255],\n",
              "        [255, 255, 255],\n",
              "        ...,\n",
              "        [255, 255, 255],\n",
              "        [255, 255, 255],\n",
              "        [255, 255, 255]],\n",
              "\n",
              "       [[255, 255, 255],\n",
              "        [255, 255, 255],\n",
              "        [255, 255, 255],\n",
              "        ...,\n",
              "        [255, 255, 255],\n",
              "        [255, 255, 255],\n",
              "        [255, 255, 255]],\n",
              "\n",
              "       [[255, 255, 255],\n",
              "        [255, 255, 255],\n",
              "        [255, 255, 255],\n",
              "        ...,\n",
              "        [255, 255, 255],\n",
              "        [255, 255, 255],\n",
              "        [255, 255, 255]],\n",
              "\n",
              "       ...,\n",
              "\n",
              "       [[255, 255, 255],\n",
              "        [255, 255, 255],\n",
              "        [255, 255, 255],\n",
              "        ...,\n",
              "        [255, 255, 255],\n",
              "        [255, 255, 255],\n",
              "        [255, 255, 255]],\n",
              "\n",
              "       [[255, 255, 255],\n",
              "        [255, 255, 255],\n",
              "        [255, 255, 255],\n",
              "        ...,\n",
              "        [255, 255, 255],\n",
              "        [255, 255, 255],\n",
              "        [255, 255, 255]],\n",
              "\n",
              "       [[255, 255, 255],\n",
              "        [255, 255, 255],\n",
              "        [255, 255, 255],\n",
              "        ...,\n",
              "        [255, 255, 255],\n",
              "        [255, 255, 255],\n",
              "        [255, 255, 255]]], dtype=uint8)"
            ],
            "text/html": [
              "<style>\n",
              "      .ndarray_repr .ndarray_raw_data {\n",
              "        display: none;\n",
              "      }\n",
              "      .ndarray_repr.show_array .ndarray_raw_data {\n",
              "        display: block;\n",
              "      }\n",
              "      .ndarray_repr.show_array .ndarray_image_preview {\n",
              "        display: none;\n",
              "      }\n",
              "      </style>\n",
              "      <div id=\"id-d09dc80a-a6c0-4cca-b1cc-380153efac82\" class=\"ndarray_repr\"><pre>ndarray (150, 150, 3) <button style=\"padding: 0 2px;\">show data</button></pre><img src=\"data:image/png;base64,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\" class=\"ndarray_image_preview\" /><pre class=\"ndarray_raw_data\">array([[[255, 255, 255],\n",
              "        [255, 255, 255],\n",
              "        [255, 255, 255],\n",
              "        ...,\n",
              "        [255, 255, 255],\n",
              "        [255, 255, 255],\n",
              "        [255, 255, 255]],\n",
              "\n",
              "       [[255, 255, 255],\n",
              "        [255, 255, 255],\n",
              "        [255, 255, 255],\n",
              "        ...,\n",
              "        [255, 255, 255],\n",
              "        [255, 255, 255],\n",
              "        [255, 255, 255]],\n",
              "\n",
              "       [[255, 255, 255],\n",
              "        [255, 255, 255],\n",
              "        [255, 255, 255],\n",
              "        ...,\n",
              "        [255, 255, 255],\n",
              "        [255, 255, 255],\n",
              "        [255, 255, 255]],\n",
              "\n",
              "       ...,\n",
              "\n",
              "       [[255, 255, 255],\n",
              "        [255, 255, 255],\n",
              "        [255, 255, 255],\n",
              "        ...,\n",
              "        [255, 255, 255],\n",
              "        [255, 255, 255],\n",
              "        [255, 255, 255]],\n",
              "\n",
              "       [[255, 255, 255],\n",
              "        [255, 255, 255],\n",
              "        [255, 255, 255],\n",
              "        ...,\n",
              "        [255, 255, 255],\n",
              "        [255, 255, 255],\n",
              "        [255, 255, 255]],\n",
              "\n",
              "       [[255, 255, 255],\n",
              "        [255, 255, 255],\n",
              "        [255, 255, 255],\n",
              "        ...,\n",
              "        [255, 255, 255],\n",
              "        [255, 255, 255],\n",
              "        [255, 255, 255]]], dtype=uint8)</pre></div><script>\n",
              "      (() => {\n",
              "      const titles = ['show data', 'hide data'];\n",
              "      let index = 0\n",
              "      document.querySelector('#id-d09dc80a-a6c0-4cca-b1cc-380153efac82 button').onclick = (e) => {\n",
              "        document.querySelector('#id-d09dc80a-a6c0-4cca-b1cc-380153efac82').classList.toggle('show_array');\n",
              "        index = (++index) % 2;\n",
              "        document.querySelector('#id-d09dc80a-a6c0-4cca-b1cc-380153efac82 button').textContent = titles[index];\n",
              "        e.preventDefault();\n",
              "        e.stopPropagation();\n",
              "      }\n",
              "      })();\n",
              "    </script>"
            ]
          },
          "metadata": {},
          "execution_count": 63
        }
      ]
    },
    {
      "cell_type": "code",
      "source": [
        "img = cv2.cvtColor(img , cv2.COLOR_BGR2RGB)\n",
        "img"
      ],
      "metadata": {
        "colab": {
          "base_uri": "https://localhost:8080/",
          "height": 190
        },
        "id": "Tf41TpbV7hW9",
        "outputId": "3397fe9d-2dc7-44ec-ff45-7ac51ae0b32a"
      },
      "execution_count": null,
      "outputs": [
        {
          "output_type": "execute_result",
          "data": {
            "text/plain": [
              "array([[[255, 255, 255],\n",
              "        [255, 255, 255],\n",
              "        [255, 255, 255],\n",
              "        ...,\n",
              "        [255, 255, 255],\n",
              "        [255, 255, 255],\n",
              "        [255, 255, 255]],\n",
              "\n",
              "       [[255, 255, 255],\n",
              "        [255, 255, 255],\n",
              "        [255, 255, 255],\n",
              "        ...,\n",
              "        [255, 255, 255],\n",
              "        [255, 255, 255],\n",
              "        [255, 255, 255]],\n",
              "\n",
              "       [[255, 255, 255],\n",
              "        [255, 255, 255],\n",
              "        [255, 255, 255],\n",
              "        ...,\n",
              "        [255, 255, 255],\n",
              "        [255, 255, 255],\n",
              "        [255, 255, 255]],\n",
              "\n",
              "       ...,\n",
              "\n",
              "       [[255, 255, 255],\n",
              "        [255, 255, 255],\n",
              "        [255, 255, 255],\n",
              "        ...,\n",
              "        [255, 255, 255],\n",
              "        [255, 255, 255],\n",
              "        [255, 255, 255]],\n",
              "\n",
              "       [[255, 255, 255],\n",
              "        [255, 255, 255],\n",
              "        [255, 255, 255],\n",
              "        ...,\n",
              "        [255, 255, 255],\n",
              "        [255, 255, 255],\n",
              "        [255, 255, 255]],\n",
              "\n",
              "       [[255, 255, 255],\n",
              "        [255, 255, 255],\n",
              "        [255, 255, 255],\n",
              "        ...,\n",
              "        [255, 255, 255],\n",
              "        [255, 255, 255],\n",
              "        [255, 255, 255]]], dtype=uint8)"
            ],
            "text/html": [
              "<style>\n",
              "      .ndarray_repr .ndarray_raw_data {\n",
              "        display: none;\n",
              "      }\n",
              "      .ndarray_repr.show_array .ndarray_raw_data {\n",
              "        display: block;\n",
              "      }\n",
              "      .ndarray_repr.show_array .ndarray_image_preview {\n",
              "        display: none;\n",
              "      }\n",
              "      </style>\n",
              "      <div id=\"id-14250955-755b-4050-b25c-3530f33d57b7\" class=\"ndarray_repr\"><pre>ndarray (150, 150, 3) <button style=\"padding: 0 2px;\">show data</button></pre><img src=\"data:image/png;base64,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\" class=\"ndarray_image_preview\" /><pre class=\"ndarray_raw_data\">array([[[255, 255, 255],\n",
              "        [255, 255, 255],\n",
              "        [255, 255, 255],\n",
              "        ...,\n",
              "        [255, 255, 255],\n",
              "        [255, 255, 255],\n",
              "        [255, 255, 255]],\n",
              "\n",
              "       [[255, 255, 255],\n",
              "        [255, 255, 255],\n",
              "        [255, 255, 255],\n",
              "        ...,\n",
              "        [255, 255, 255],\n",
              "        [255, 255, 255],\n",
              "        [255, 255, 255]],\n",
              "\n",
              "       [[255, 255, 255],\n",
              "        [255, 255, 255],\n",
              "        [255, 255, 255],\n",
              "        ...,\n",
              "        [255, 255, 255],\n",
              "        [255, 255, 255],\n",
              "        [255, 255, 255]],\n",
              "\n",
              "       ...,\n",
              "\n",
              "       [[255, 255, 255],\n",
              "        [255, 255, 255],\n",
              "        [255, 255, 255],\n",
              "        ...,\n",
              "        [255, 255, 255],\n",
              "        [255, 255, 255],\n",
              "        [255, 255, 255]],\n",
              "\n",
              "       [[255, 255, 255],\n",
              "        [255, 255, 255],\n",
              "        [255, 255, 255],\n",
              "        ...,\n",
              "        [255, 255, 255],\n",
              "        [255, 255, 255],\n",
              "        [255, 255, 255]],\n",
              "\n",
              "       [[255, 255, 255],\n",
              "        [255, 255, 255],\n",
              "        [255, 255, 255],\n",
              "        ...,\n",
              "        [255, 255, 255],\n",
              "        [255, 255, 255],\n",
              "        [255, 255, 255]]], dtype=uint8)</pre></div><script>\n",
              "      (() => {\n",
              "      const titles = ['show data', 'hide data'];\n",
              "      let index = 0\n",
              "      document.querySelector('#id-14250955-755b-4050-b25c-3530f33d57b7 button').onclick = (e) => {\n",
              "        document.querySelector('#id-14250955-755b-4050-b25c-3530f33d57b7').classList.toggle('show_array');\n",
              "        index = (++index) % 2;\n",
              "        document.querySelector('#id-14250955-755b-4050-b25c-3530f33d57b7 button').textContent = titles[index];\n",
              "        e.preventDefault();\n",
              "        e.stopPropagation();\n",
              "      }\n",
              "      })();\n",
              "    </script>"
            ]
          },
          "metadata": {},
          "execution_count": 64
        }
      ]
    },
    {
      "cell_type": "code",
      "source": [
        "\n",
        "img = img.reshape(1 , 150 , 150 , 3)\n",
        "img.shape"
      ],
      "metadata": {
        "colab": {
          "base_uri": "https://localhost:8080/"
        },
        "id": "abY3SmOu7msO",
        "outputId": "869e7666-60e2-4c86-dfbb-a63deb931edf"
      },
      "execution_count": null,
      "outputs": [
        {
          "output_type": "execute_result",
          "data": {
            "text/plain": [
              "(1, 150, 150, 3)"
            ]
          },
          "metadata": {},
          "execution_count": 65
        }
      ]
    },
    {
      "cell_type": "code",
      "source": [
        "if model.predict(img) > 0.5:\n",
        "  print(\"  mask \")\n",
        "else:\n",
        "  print(\" n0 Mask\")"
      ],
      "metadata": {
        "colab": {
          "base_uri": "https://localhost:8080/"
        },
        "id": "pxHtxDXB7zTb",
        "outputId": "2da0a5ec-4890-4d31-a02b-bb653570fe11"
      },
      "execution_count": null,
      "outputs": [
        {
          "output_type": "stream",
          "name": "stdout",
          "text": [
            "\u001b[1m1/1\u001b[0m \u001b[32m━━━━━━━━━━━━━━━━━━━━\u001b[0m\u001b[37m\u001b[0m \u001b[1m0s\u001b[0m 40ms/step\n",
            " n0 Mask\n"
          ]
        }
      ]
    },
    {
      "cell_type": "code",
      "source": [
        "from tensorflow.keras.preprocessing import image\n",
        "import numpy as np\n",
        "\n",
        "img = image.load_img(\"/content/images.jpeg\", target_size=(150,150))\n",
        "img\n",
        "img_array = image.img_to_array(img)\n",
        "img_array = np.expand_dims(img_array, axis=0)\n",
        "img_array = img_array / 255.0   # normalize karna zaroori hai\n",
        "prediction = model.predict(img_array)\n",
        "print(prediction)\n",
        "if prediction > 0.5:\n",
        "  print(\"  mask \")\n",
        "else:\n",
        "  print(\" n0 Mask\")"
      ],
      "metadata": {
        "colab": {
          "base_uri": "https://localhost:8080/"
        },
        "id": "sl68xnxr7_QF",
        "outputId": "06259467-0d0f-4b94-bc3c-f9711da573e4"
      },
      "execution_count": null,
      "outputs": [
        {
          "output_type": "stream",
          "name": "stdout",
          "text": [
            "\u001b[1m1/1\u001b[0m \u001b[32m━━━━━━━━━━━━━━━━━━━━\u001b[0m\u001b[37m\u001b[0m \u001b[1m0s\u001b[0m 28ms/step\n",
            "[[4.695409e-05]]\n",
            " n0 Mask\n"
          ]
        }
      ]
    },
    {
      "cell_type": "code",
      "source": [],
      "metadata": {
        "id": "c5VVynXOGeiL"
      },
      "execution_count": null,
      "outputs": []
    }
  ]
}